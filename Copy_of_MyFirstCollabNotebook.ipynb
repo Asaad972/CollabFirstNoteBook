{
  "nbformat": 4,
  "nbformat_minor": 0,
  "metadata": {
    "colab": {
      "provenance": [],
      "authorship_tag": "ABX9TyM81Mf8fnEvo1ZlW2ntMk9Y",
      "include_colab_link": true
    },
    "kernelspec": {
      "name": "python3",
      "display_name": "Python 3"
    },
    "language_info": {
      "name": "python"
    }
  },
  "cells": [
    {
      "cell_type": "markdown",
      "metadata": {
        "id": "view-in-github",
        "colab_type": "text"
      },
      "source": [
        "<a href=\"https://colab.research.google.com/github/Asaad972/CollabFirstNoteBook/blob/main/Copy_of_MyFirstCollabNotebook.ipynb\" target=\"_parent\"><img src=\"https://colab.research.google.com/assets/colab-badge.svg\" alt=\"Open In Colab\"/></a>"
      ]
    },
    {
      "cell_type": "code",
      "source": [
        "# @title Append \"change\" to selected student's line and save\n",
        "name = \"Asaad\" # @param [\"Asaad\",\"Qasem\",\"Marwan\",\"Joul\"]\n",
        "change = \"dffdfdf\"    # @param {\"type\":\"string\"}\n",
        "\n",
        "import os\n",
        "from pathlib import Path\n",
        "\n",
        "FILE_PATH = Path(\"/content/drive/My Drive/Colab Notebooks/students.txt\")\n",
        "\n",
        "# Try mounting Drive if file isn't found\n",
        "if not FILE_PATH.exists():\n",
        "    try:\n",
        "        from google.colab import drive\n",
        "        drive.mount('/content/drive')\n",
        "    except Exception as e:\n",
        "        print(\"Couldn't auto-mount Drive. If needed, mount manually: from google.colab import drive; drive.mount('/content/drive')\")\n",
        "\n",
        "if not FILE_PATH.exists():\n",
        "    raise FileNotFoundError(\"⚠️ students.txt file not found at /content/drive/My Drive/Colab Notebooks/students.txt\")\n",
        "\n",
        "# Read all lines\n",
        "lines = FILE_PATH.read_text(encoding=\"utf-8\").splitlines()\n",
        "\n",
        "found_idx = -1\n",
        "before_line = None\n",
        "for i, line in enumerate(lines):\n",
        "    raw = line.strip()\n",
        "    if not raw:\n",
        "        continue\n",
        "    parts = [p.strip() for p in raw.split(\",\")]\n",
        "    if len(parts) < 3:\n",
        "        continue\n",
        "\n",
        "    first_name = parts[0]  # matching by first name (as in your dropdown)\n",
        "    if first_name.lower() == name.lower():\n",
        "        found_idx = i\n",
        "        before_line = line\n",
        "        break\n",
        "\n",
        "if found_idx == -1:\n",
        "    print(\"Student not found in file.\")\n",
        "else:\n",
        "    # Append the change (only if not empty)\n",
        "    change_clean = change.strip()\n",
        "    if change_clean:\n",
        "        # Ensure there's a comma separator before appending\n",
        "        updated_line = before_line.rstrip()\n",
        "        if not updated_line.endswith(\",\"):\n",
        "            updated_line = updated_line + \" , \" + change_clean\n",
        "        else:\n",
        "            updated_line = updated_line + \" \" + change_clean\n",
        "        lines[found_idx] = updated_line\n",
        "    else:\n",
        "        updated_line = before_line  # nothing to append\n",
        "\n",
        "    # Save back to file\n",
        "    FILE_PATH.write_text(\"\\n\".join(lines) + \"\\n\", encoding=\"utf-8\")\n",
        "\n",
        "    print(\"✅ Student Found and Updated\" if change_clean else \"✅ Student Found (no change provided)\")\n",
        "    print(\"Before:\\n\", before_line)\n",
        "    print(\"\\nAfter:\\n\", updated_line)\n"
      ],
      "metadata": {
        "colab": {
          "base_uri": "https://localhost:8080/"
        },
        "outputId": "bc1f04a7-b958-4a51-a567-d7144a5420ec",
        "id": "MU6N_ZtJKs1B"
      },
      "execution_count": null,
      "outputs": [
        {
          "output_type": "stream",
          "name": "stdout",
          "text": [
            "✅ Student Found and Updated\n",
            "Before:\n",
            " Asaad, Bdarneh ,Asaad.bdarneh@e.braude.ac.il , introduction to AI, introduction to Cloud computing , Physics, Web\n",
            "\n",
            "After:\n",
            " Asaad, Bdarneh ,Asaad.bdarneh@e.braude.ac.il , introduction to AI, introduction to Cloud computing , Physics, Web , dffdfdf\n"
          ]
        }
      ]
    }
  ]
}